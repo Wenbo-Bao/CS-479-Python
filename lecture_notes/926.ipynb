{
 "cells": [
  {
   "cell_type": "code",
   "execution_count": 3,
   "metadata": {},
   "outputs": [],
   "source": [
    "f = open('whatisthis.txt')"
   ]
  },
  {
   "cell_type": "code",
   "execution_count": null,
   "metadata": {},
   "outputs": [],
   "source": []
  },
  {
   "cell_type": "code",
   "execution_count": null,
   "metadata": {},
   "outputs": [],
   "source": []
  },
  {
   "cell_type": "markdown",
   "metadata": {},
   "source": []
  },
  {
   "cell_type": "code",
   "execution_count": null,
   "metadata": {},
   "outputs": [],
   "source": []
  },
  {
   "cell_type": "code",
   "execution_count": null,
   "metadata": {},
   "outputs": [],
   "source": []
  },
  {
   "cell_type": "code",
   "execution_count": 4,
   "metadata": {},
   "outputs": [
    {
     "data": {
      "text/plain": [
       "_io.TextIOWrapper"
      ]
     },
     "execution_count": 4,
     "metadata": {},
     "output_type": "execute_result"
    }
   ],
   "source": [
    "# here f is a file\n",
    "type(f)"
   ]
  },
  {
   "cell_type": "code",
   "execution_count": 10,
   "metadata": {},
   "outputs": [
    {
     "data": {
      "text/plain": [
       "str"
      ]
     },
     "execution_count": 10,
     "metadata": {},
     "output_type": "execute_result"
    }
   ],
   "source": [
    "# with this operation read_data is now a string\n",
    "with open('whatisthis.txt') as f:\n",
    "    s = f.read()\n",
    "\n",
    "type(s)"
   ]
  },
  {
   "cell_type": "code",
   "execution_count": 11,
   "metadata": {},
   "outputs": [],
   "source": [
    "from collections import Counter\n",
    "counter = Counter(s)"
   ]
  },
  {
   "cell_type": "code",
   "execution_count": 23,
   "metadata": {},
   "outputs": [],
   "source": [
    "d = {k:v for k,v in counter.most_common() if k.isalpha()}"
   ]
  },
  {
   "cell_type": "code",
   "execution_count": 22,
   "metadata": {},
   "outputs": [],
   "source": [
    "pip install matplotlib\n",
    "import matplotlib.pyplot as plt"
   ]
  },
  {
   "cell_type": "code",
   "execution_count": 28,
   "metadata": {},
   "outputs": [
    {
     "data": {
      "text/plain": [
       "([<matplotlib.axis.XTick at 0x7fdcf0047e80>,\n",
       "  <matplotlib.axis.XTick at 0x7fdcc334f040>,\n",
       "  <matplotlib.axis.XTick at 0x7fdcc3346880>,\n",
       "  <matplotlib.axis.XTick at 0x7fdcc3408e50>,\n",
       "  <matplotlib.axis.XTick at 0x7fdcc3422a90>,\n",
       "  <matplotlib.axis.XTick at 0x7fdcc346a610>,\n",
       "  <matplotlib.axis.XTick at 0x7fdcc33c8580>,\n",
       "  <matplotlib.axis.XTick at 0x7fdcc339e5b0>,\n",
       "  <matplotlib.axis.XTick at 0x7fdcc339ee20>,\n",
       "  <matplotlib.axis.XTick at 0x7fdcc33c8370>,\n",
       "  <matplotlib.axis.XTick at 0x7fdcc333e9a0>,\n",
       "  <matplotlib.axis.XTick at 0x7fdcc33674c0>,\n",
       "  <matplotlib.axis.XTick at 0x7fdcc3367f70>,\n",
       "  <matplotlib.axis.XTick at 0x7fdcc336aa60>,\n",
       "  <matplotlib.axis.XTick at 0x7fdcc3367790>,\n",
       "  <matplotlib.axis.XTick at 0x7fdcc336d280>,\n",
       "  <matplotlib.axis.XTick at 0x7fdcc336dd30>,\n",
       "  <matplotlib.axis.XTick at 0x7fdcc336e820>,\n",
       "  <matplotlib.axis.XTick at 0x7fdcc3370310>,\n",
       "  <matplotlib.axis.XTick at 0x7fdcc336d640>,\n",
       "  <matplotlib.axis.XTick at 0x7fdcc3370b80>,\n",
       "  <matplotlib.axis.XTick at 0x7fdcc3373670>,\n",
       "  <matplotlib.axis.XTick at 0x7fdcc3373ee0>,\n",
       "  <matplotlib.axis.XTick at 0x7fdcc3375c10>,\n",
       "  <matplotlib.axis.XTick at 0x7fdcc3367970>,\n",
       "  <matplotlib.axis.XTick at 0x7fdcc3377550>],\n",
       " [Text(0, 0, 'l'),\n",
       "  Text(1, 0, 'g'),\n",
       "  Text(2, 0, 'z'),\n",
       "  Text(3, 0, 'c'),\n",
       "  Text(4, 0, 't'),\n",
       "  Text(5, 0, 'p'),\n",
       "  Text(6, 0, 'r'),\n",
       "  Text(7, 0, 'e'),\n",
       "  Text(8, 0, 'x'),\n",
       "  Text(9, 0, 'v'),\n",
       "  Text(10, 0, 'y'),\n",
       "  Text(11, 0, 'h'),\n",
       "  Text(12, 0, 'o'),\n",
       "  Text(13, 0, 'k'),\n",
       "  Text(14, 0, 's'),\n",
       "  Text(15, 0, 'i'),\n",
       "  Text(16, 0, 'u'),\n",
       "  Text(17, 0, 'a'),\n",
       "  Text(18, 0, 'm'),\n",
       "  Text(19, 0, 'w'),\n",
       "  Text(20, 0, 'q'),\n",
       "  Text(21, 0, 'b'),\n",
       "  Text(22, 0, 'd'),\n",
       "  Text(23, 0, 'f'),\n",
       "  Text(24, 0, 'j'),\n",
       "  Text(25, 0, 'n')])"
      ]
     },
     "execution_count": 28,
     "metadata": {},
     "output_type": "execute_result"
    },
    {
     "data": {
      "image/png": "[encoded data removed]",
      "text/plain": [
       "<Figure size 640x480 with 1 Axes>"
      ]
     },
     "metadata": {},
     "output_type": "display_data"
    }
   ],
   "source": [
    "# x coords\n",
    "# heights\n",
    "# plt.xticks to add labels to x axis\n",
    "bar_num = range(len(d.keys()))\n",
    "plt.bar(bar_num, d.values())\n",
    "plt.xticks(bar_num, d.keys())"
   ]
  },
  {
   "cell_type": "code",
   "execution_count": 33,
   "metadata": {},
   "outputs": [],
   "source": [
    "most_freq = 'etaonisrhdlumcfwgpybvkxjqz'\n",
    "tmp_tab = {letter :most_freq[i] for i,letter in enumerate(d.keys())}"
   ]
  },
  {
   "cell_type": "code",
   "execution_count": 34,
   "metadata": {},
   "outputs": [
    {
     "data": {
      "text/plain": [
       "'the project gutenberg ebook of the last man, by mary shelley\\n\\nthis ebook is for the use of anyone an'"
      ]
     },
     "execution_count": 34,
     "metadata": {},
     "output_type": "execute_result"
    }
   ],
   "source": [
    "s.translate(str.maketrans(tmp_tab))[:100]"
   ]
  },
  {
   "cell_type": "code",
   "execution_count": 35,
   "metadata": {},
   "outputs": [
    {
     "data": {
      "text/plain": [
       "'gxl aecflkg uhgltwleu lwccb cs gxl yzrg ozt, wm ozem rxlyylm\\n\\ngxpr lwccb pr sce gxl hrl cs ztmctl zt'"
      ]
     },
     "execution_count": 35,
     "metadata": {},
     "output_type": "execute_result"
    }
   ],
   "source": [
    "s[:100]"
   ]
  },
  {
   "cell_type": "code",
   "execution_count": null,
   "metadata": {},
   "outputs": [],
   "source": []
  }
 ],
 "metadata": {
  "kernelspec": {
   "display_name": "Python 3.8.13 64-bit ('shims')",
   "language": "python",
   "name": "python3"
  },
  "language_info": {
   "codemirror_mode": {
    "name": "ipython",
    "version": 3
   },
   "file_extension": ".py",
   "mimetype": "text/x-python",
   "name": "python",
   "nbconvert_exporter": "python",
   "pygments_lexer": "ipython3",
   "version": "3.8.13"
  },
  "orig_nbformat": 4,
  "vscode": {
   "interpreter": {
    "hash": "9ac03a0a6051494cc606d484d27d20fce22fb7b4d169f583271e11d5ba46a56e"
   }
  }
 },
 "nbformat": 4,
 "nbformat_minor": 2
}
